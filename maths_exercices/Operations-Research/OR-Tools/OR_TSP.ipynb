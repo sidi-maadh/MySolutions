{
  "nbformat": 4,
  "nbformat_minor": 0,
  "metadata": {
    "colab": {
      "provenance": []
    },
    "kernelspec": {
      "name": "python3",
      "display_name": "Python 3"
    },
    "language_info": {
      "name": "python"
    }
  },
  "cells": [
    {
      "cell_type": "code",
      "execution_count": 3,
      "metadata": {
        "colab": {
          "base_uri": "https://localhost:8080/"
        },
        "collapsed": true,
        "id": "9tFif0gVR50G",
        "outputId": "5e400e2c-b904-4a8b-d7f8-c794a555c7e1"
      },
      "outputs": [
        {
          "output_type": "stream",
          "name": "stdout",
          "text": [
            "Collecting ortools\n",
            "  Downloading ortools-9.11.4210-cp311-cp311-manylinux_2_17_x86_64.manylinux2014_x86_64.whl.metadata (3.0 kB)\n",
            "Collecting absl-py>=2.0.0 (from ortools)\n",
            "  Downloading absl_py-2.1.0-py3-none-any.whl.metadata (2.3 kB)\n",
            "Requirement already satisfied: numpy>=1.13.3 in /usr/local/lib/python3.11/dist-packages (from ortools) (1.26.4)\n",
            "Requirement already satisfied: pandas>=2.0.0 in /usr/local/lib/python3.11/dist-packages (from ortools) (2.2.2)\n",
            "Collecting protobuf<5.27,>=5.26.1 (from ortools)\n",
            "  Downloading protobuf-5.26.1-cp37-abi3-manylinux2014_x86_64.whl.metadata (592 bytes)\n",
            "Requirement already satisfied: immutabledict>=3.0.0 in /usr/local/lib/python3.11/dist-packages (from ortools) (4.2.1)\n",
            "Requirement already satisfied: python-dateutil>=2.8.2 in /usr/local/lib/python3.11/dist-packages (from pandas>=2.0.0->ortools) (2.8.2)\n",
            "Requirement already satisfied: pytz>=2020.1 in /usr/local/lib/python3.11/dist-packages (from pandas>=2.0.0->ortools) (2024.2)\n",
            "Requirement already satisfied: tzdata>=2022.7 in /usr/local/lib/python3.11/dist-packages (from pandas>=2.0.0->ortools) (2024.2)\n",
            "Requirement already satisfied: six>=1.5 in /usr/local/lib/python3.11/dist-packages (from python-dateutil>=2.8.2->pandas>=2.0.0->ortools) (1.17.0)\n",
            "Downloading ortools-9.11.4210-cp311-cp311-manylinux_2_17_x86_64.manylinux2014_x86_64.whl (28.1 MB)\n",
            "\u001b[2K   \u001b[90m━━━━━━━━━━━━━━━━━━━━━━━━━━━━━━━━━━━━━━━━\u001b[0m \u001b[32m28.1/28.1 MB\u001b[0m \u001b[31m19.1 MB/s\u001b[0m eta \u001b[36m0:00:00\u001b[0m\n",
            "\u001b[?25hDownloading absl_py-2.1.0-py3-none-any.whl (133 kB)\n",
            "\u001b[2K   \u001b[90m━━━━━━━━━━━━━━━━━━━━━━━━━━━━━━━━━━━━━━━━\u001b[0m \u001b[32m133.7/133.7 kB\u001b[0m \u001b[31m11.8 MB/s\u001b[0m eta \u001b[36m0:00:00\u001b[0m\n",
            "\u001b[?25hDownloading protobuf-5.26.1-cp37-abi3-manylinux2014_x86_64.whl (302 kB)\n",
            "\u001b[2K   \u001b[90m━━━━━━━━━━━━━━━━━━━━━━━━━━━━━━━━━━━━━━━━\u001b[0m \u001b[32m302.8/302.8 kB\u001b[0m \u001b[31m23.3 MB/s\u001b[0m eta \u001b[36m0:00:00\u001b[0m\n",
            "\u001b[?25hInstalling collected packages: protobuf, absl-py, ortools\n",
            "  Attempting uninstall: protobuf\n",
            "    Found existing installation: protobuf 4.25.5\n",
            "    Uninstalling protobuf-4.25.5:\n",
            "      Successfully uninstalled protobuf-4.25.5\n",
            "  Attempting uninstall: absl-py\n",
            "    Found existing installation: absl-py 1.4.0\n",
            "    Uninstalling absl-py-1.4.0:\n",
            "      Successfully uninstalled absl-py-1.4.0\n",
            "\u001b[31mERROR: pip's dependency resolver does not currently take into account all the packages that are installed. This behaviour is the source of the following dependency conflicts.\n",
            "tensorflow 2.17.1 requires protobuf!=4.21.0,!=4.21.1,!=4.21.2,!=4.21.3,!=4.21.4,!=4.21.5,<5.0.0dev,>=3.20.3, but you have protobuf 5.26.1 which is incompatible.\u001b[0m\u001b[31m\n",
            "\u001b[0mSuccessfully installed absl-py-2.1.0 ortools-9.11.4210 protobuf-5.26.1\n"
          ]
        }
      ],
      "source": [
        "!pip install ortools"
      ]
    },
    {
      "cell_type": "code",
      "source": [
        "from ortools.linear_solver import pywraplp\n",
        "from ortools.constraint_solver import pywrapcp"
      ],
      "metadata": {
        "id": "OxXLAWmkSJAj"
      },
      "execution_count": 4,
      "outputs": []
    },
    {
      "cell_type": "code",
      "source": [
        "from ortools.constraint_solver import routing_enums_pb2\n",
        "from ortools.constraint_solver import pywrapcp\n",
        "\n",
        "# Données : Matrice des distances entre les 13 wilayas\n",
        "def create_data_model():\n",
        "    \"\"\"Définit la matrice des distances et les paramètres.\"\"\"\n",
        "    data = {}\n",
        "    # Matrice des distances (exemple en kilomètres, indexation 1-13)\n",
        "    data['distance_matrix'] = [\n",
        "        [0,   276, 488, 794, 751, 1086, 1518, 1564, 1065, 797, 1823, 1339, 1087],  # 1: Néma\n",
        "        [276,   0, 212, 519, 476, 810, 1242, 1289, 790, 521, 1547, 1063, 811],      # 2: Aioun\n",
        "        [488, 212,   0, 310, 263, 599, 1031, 1078, 579, 313, 1336, 852, 600],       # 3: Assaba\n",
        "        [794, 519, 310,   0, 243, 300, 843, 890, 680, 231, 1148, 664, 412],        # 4: Kaedi\n",
        "        [751, 476, 263, 243,   0, 335, 767, 813, 436, 474, 1072, 587, 336],        # 5: Brakna\n",
        "        [1086, 810, 599, 300, 335,   0, 641, 683, 771, 530, 946, 461, 203],         # 6: Trarza\n",
        "        [1518, 1242, 1031, 843, 767, 641,   0, 908, 1203, 1071, 306, 180, 438],       # 7: Adrar\n",
        "        [1564, 1289, 1078, 890, 813, 683, 908,   0, 1250, 1120, 1213, 728, 480],        # 8: Dakhlet Nouadhibou\n",
        "        [1065, 790, 579, 680, 436, 771, 1203, 1250,   0, 910, 1508, 1024, 772],        # 9: Tagant\n",
        "        [797, 521, 313, 231, 474, 530, 1073, 1120, 910,   0, 1378, 894, 642],      # 10: Guidimakha\n",
        "        [1823, 1547, 1336, 1148, 1072, 946, 306, 1213, 1508, 1378,   0, 485, 744],    # 11: Tiris Zemmour\n",
        "        [1339, 1063, 852, 664, 587, 461, 180, 728, 1024, 894, 485,   0, 259],        # 12: Inchiri\n",
        "        [1087, 811, 600, 412, 336, 203, 438, 480, 772, 642, 744, 259,   0]         # 13: Nouakchott\n",
        "    ]\n",
        "    data['num_vehicles'] = 1  # Une seule tournée\n",
        "    data['depot'] = 0  # Point de départ : Néma (Wilaya 1, index 0 dans Python)\n",
        "    return data\n",
        "\n",
        "# Résolution gloutonne (algorithme du plus proche voisin)\n",
        "def greedy_tsp(distance_matrix):\n",
        "    \"\"\"Trouve un itinéraire en utilisant une approche gloutonne.\"\"\"\n",
        "    n = len(distance_matrix)\n",
        "    visited = [False] * n\n",
        "    route = []\n",
        "    current_city = 0\n",
        "    visited[current_city] = True\n",
        "    route.append(current_city)\n",
        "    total_distance = 0\n",
        "\n",
        "    for _ in range(n - 1):\n",
        "        nearest_city = None\n",
        "        shortest_distance = float('inf')\n",
        "        for next_city in range(n):\n",
        "            if not visited[next_city] and distance_matrix[current_city][next_city] < shortest_distance:\n",
        "                shortest_distance = distance_matrix[current_city][next_city]\n",
        "                nearest_city = next_city\n",
        "        total_distance += shortest_distance\n",
        "        route.append(nearest_city)\n",
        "        visited[nearest_city] = True\n",
        "        current_city = nearest_city\n",
        "\n",
        "    # Retour à la ville de départ\n",
        "    total_distance += distance_matrix[current_city][0]\n",
        "    route.append(0)\n",
        "    return [r + 1 for r in route], total_distance  # Ajuster l'indexation à partir de 1\n",
        "\n",
        "# Résolution avec OR-Tools (Approche exacte)\n",
        "def solve_tsp_with_ortools():\n",
        "    \"\"\"Utilise OR-Tools pour résoudre le TSP de manière exacte.\"\"\"\n",
        "    data = create_data_model()\n",
        "    manager = pywrapcp.RoutingIndexManager(len(data['distance_matrix']),\n",
        "                                           data['num_vehicles'], data['depot'])\n",
        "    routing = pywrapcp.RoutingModel(manager)\n",
        "\n",
        "    def distance_callback(from_index, to_index):\n",
        "        \"\"\"Retourne la distance entre deux nœuds.\"\"\"\n",
        "        from_node = manager.IndexToNode(from_index)\n",
        "        to_node = manager.IndexToNode(to_index)\n",
        "        distance = data['distance_matrix'][from_node][to_node]\n",
        "        return distance\n",
        "\n",
        "    transit_callback_index = routing.RegisterTransitCallback(distance_callback)\n",
        "    routing.SetArcCostEvaluatorOfAllVehicles(transit_callback_index)\n",
        "\n",
        "    search_parameters = pywrapcp.DefaultRoutingSearchParameters()\n",
        "    search_parameters.first_solution_strategy = (\n",
        "        routing_enums_pb2.FirstSolutionStrategy.PATH_CHEAPEST_ARC)\n",
        "\n",
        "    solution = routing.SolveWithParameters(search_parameters)\n",
        "\n",
        "    if solution:\n",
        "        route = []\n",
        "        index = routing.Start(0)\n",
        "        total_distance = 0\n",
        "        while not routing.IsEnd(index):\n",
        "            route.append(manager.IndexToNode(index))\n",
        "            previous_index = index\n",
        "            index = solution.Value(routing.NextVar(previous_index))\n",
        "            total_distance += routing.GetArcCostForVehicle(previous_index, index, 0)\n",
        "        route.append(manager.IndexToNode(index))\n",
        "        return [r + 1 for r in route], total_distance  # Ajuster pour indexer à partir de 1\n",
        "    else:\n",
        "        return None, None\n",
        "\n",
        "# Comparaison des deux approches\n",
        "data = create_data_model()\n",
        "greedy_route, greedy_distance = greedy_tsp(data['distance_matrix'])\n",
        "exact_route, exact_distance = solve_tsp_with_ortools()\n",
        "\n",
        "# Résultats\n",
        "wilayas = [\n",
        "    \"Néma\", \"Aioun\", \"Assaba\", \"Kaedi\", \"Brakna\", \"Trarza\", \"Adrar\", \"Dakhlet Nouadhibou\",\n",
        "    \"Tagant\", \"Guidimakha\", \"Tiris Zemmour\", \"Inchiri\", \"Nouakchott\"\n",
        "]\n",
        "\n",
        "print(\"=== Résultats ===\")\n",
        "print(\"Approche (gloutonne) :\")\n",
        "greedy_wilayas = [wilayas[i-1] for i in greedy_route]\n",
        "print(f\"Itinéraire : {greedy_wilayas}\")\n",
        "print(f\"Distance totale : {greedy_distance} km\")\n",
        "print()\n",
        "print(\"Approche exacte (OR-Tools Branch and Bound) :\")\n",
        "exact_wilayas = [wilayas[i-1] for i in exact_route]\n",
        "print(f\"Itinéraire : {exact_wilayas}\")\n",
        "print(f\"Distance totale : {exact_distance} km\")"
      ],
      "metadata": {
        "colab": {
          "base_uri": "https://localhost:8080/"
        },
        "id": "MF4ermOtTIgk",
        "outputId": "86febe51-1d5a-403c-815d-083d2c81a340"
      },
      "execution_count": 6,
      "outputs": [
        {
          "output_type": "stream",
          "name": "stdout",
          "text": [
            "=== Résultats ===\n",
            "Approche (gloutonne) :\n",
            "Itinéraire : ['Néma', 'Aioun', 'Assaba', 'Brakna', 'Kaedi', 'Guidimakha', 'Trarza', 'Nouakchott', 'Inchiri', 'Adrar', 'Tiris Zemmour', 'Dakhlet Nouadhibou', 'Tagant', 'Néma']\n",
            "Distance totale : 6231 km\n",
            "\n",
            "Approche exacte (OR-Tools Branch and Bound) :\n",
            "Itinéraire : ['Néma', 'Aioun', 'Assaba', 'Tagant', 'Brakna', 'Inchiri', 'Adrar', 'Tiris Zemmour', 'Dakhlet Nouadhibou', 'Nouakchott', 'Trarza', 'Kaedi', 'Guidimakha', 'Néma']\n",
            "Distance totale : 5800 km\n"
          ]
        }
      ]
    }
  ]
}